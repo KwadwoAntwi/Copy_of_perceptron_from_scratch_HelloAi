{
  "nbformat": 4,
  "nbformat_minor": 0,
  "metadata": {
    "colab": {
      "name": "Copy of perceptron_from_scratch_HelloAi.ipynb",
      "provenance": [],
      "include_colab_link": true
    },
    "kernelspec": {
      "name": "python3",
      "display_name": "Python 3"
    },
    "language_info": {
      "name": "python"
    }
  },
  "cells": [
    {
      "cell_type": "markdown",
      "metadata": {
        "id": "view-in-github",
        "colab_type": "text"
      },
      "source": [
        "<a href=\"https://colab.research.google.com/github/KwadwoAntwi/Temporary_add_to_version_control/blob/master/Copy_of_perceptron_from_scratch_HelloAi.ipynb\" target=\"_parent\"><img src=\"https://colab.research.google.com/assets/colab-badge.svg\" alt=\"Open In Colab\"/></a>"
      ]
    },
    {
      "cell_type": "code",
      "metadata": {
        "id": "ufKo5_OuRxVZ"
      },
      "source": [
        "from sklearn.datasets import load_iris\n",
        "from sklearn.model_selection import train_test_split\n",
        "import numpy as np\n",
        "import matplotlib.pyplot as plt\n",
        "%matplotlib inline"
      ],
      "execution_count": null,
      "outputs": []
    },
    {
      "cell_type": "code",
      "metadata": {
        "id": "rw51BLZpSIU-"
      },
      "source": [
        "iris = load_iris()"
      ],
      "execution_count": null,
      "outputs": []
    },
    {
      "cell_type": "code",
      "metadata": {
        "colab": {
          "base_uri": "https://localhost:8080/"
        },
        "id": "oQSsw9HCSgFM",
        "outputId": "9b28e06d-f8e9-40f3-875a-a0d61ba9e7eb"
      },
      "source": [
        "type(iris)"
      ],
      "execution_count": null,
      "outputs": [
        {
          "output_type": "execute_result",
          "data": {
            "text/plain": [
              "sklearn.utils.Bunch"
            ]
          },
          "metadata": {},
          "execution_count": 4
        }
      ]
    },
    {
      "cell_type": "code",
      "metadata": {
        "colab": {
          "base_uri": "https://localhost:8080/"
        },
        "id": "jTWCmT6lSioN",
        "outputId": "376d3b5e-34c1-449b-9c08-a799ec30af25"
      },
      "source": [
        "print(iris.feature_names)"
      ],
      "execution_count": null,
      "outputs": [
        {
          "output_type": "stream",
          "name": "stdout",
          "text": [
            "['sepal length (cm)', 'sepal width (cm)', 'petal length (cm)', 'petal width (cm)']\n"
          ]
        }
      ]
    },
    {
      "cell_type": "code",
      "metadata": {
        "colab": {
          "base_uri": "https://localhost:8080/"
        },
        "id": "eEAsXeJxSorO",
        "outputId": "e221271e-bb97-4a76-ccda-68e673e061da"
      },
      "source": [
        "print(iris.target_names)"
      ],
      "execution_count": null,
      "outputs": [
        {
          "output_type": "stream",
          "name": "stdout",
          "text": [
            "['setosa' 'versicolor' 'virginica']\n"
          ]
        }
      ]
    },
    {
      "cell_type": "code",
      "metadata": {
        "id": "vy9dLUo6THCV"
      },
      "source": [
        "X = iris.data\n",
        "y = iris.target"
      ],
      "execution_count": null,
      "outputs": []
    },
    {
      "cell_type": "code",
      "metadata": {
        "colab": {
          "base_uri": "https://localhost:8080/"
        },
        "id": "wb3Dipv3TUpA",
        "outputId": "31dd9953-e5a0-4261-8aaa-79e6251243a3"
      },
      "source": [
        "print(X.shape, y.shape)"
      ],
      "execution_count": null,
      "outputs": [
        {
          "output_type": "stream",
          "name": "stdout",
          "text": [
            "(150, 4) (150,)\n"
          ]
        }
      ]
    },
    {
      "cell_type": "code",
      "metadata": {
        "colab": {
          "base_uri": "https://localhost:8080/"
        },
        "id": "wxI1XtN4Tg24",
        "outputId": "777ed42b-ebba-4bcf-9e93-0f21064bb525"
      },
      "source": [
        "np.unique(y)"
      ],
      "execution_count": null,
      "outputs": [
        {
          "output_type": "execute_result",
          "data": {
            "text/plain": [
              "array([0, 1, 2])"
            ]
          },
          "metadata": {},
          "execution_count": 10
        }
      ]
    },
    {
      "cell_type": "code",
      "metadata": {
        "id": "RaX7Z622Tzfk"
      },
      "source": [
        "mask = np.where((y==0)|(y==1))\n",
        "X = X[mask][:,[0,2]]\n",
        "y = y[mask]"
      ],
      "execution_count": null,
      "outputs": []
    },
    {
      "cell_type": "code",
      "metadata": {
        "colab": {
          "base_uri": "https://localhost:8080/"
        },
        "id": "h3G15uSuUpw6",
        "outputId": "ea3be0bb-449a-4027-c46b-6c04e6e4a45e"
      },
      "source": [
        "print(X.shape, y.shape)"
      ],
      "execution_count": null,
      "outputs": [
        {
          "output_type": "stream",
          "name": "stdout",
          "text": [
            "(100, 2) (100,)\n"
          ]
        }
      ]
    },
    {
      "cell_type": "code",
      "metadata": {
        "colab": {
          "base_uri": "https://localhost:8080/"
        },
        "id": "07ilt6SiUspG",
        "outputId": "9533fdef-8317-46d9-8003-079c65012c29"
      },
      "source": [
        "print(np.unique(y))"
      ],
      "execution_count": null,
      "outputs": [
        {
          "output_type": "stream",
          "name": "stdout",
          "text": [
            "[0 1]\n"
          ]
        }
      ]
    },
    {
      "cell_type": "code",
      "metadata": {
        "id": "PZ8SC8-tU3Iy"
      },
      "source": [
        "setosas = X[np.where(y==0)]\n",
        "versicolors = X[np.where(y==1)]"
      ],
      "execution_count": null,
      "outputs": []
    },
    {
      "cell_type": "code",
      "metadata": {
        "colab": {
          "base_uri": "https://localhost:8080/",
          "height": 296
        },
        "id": "lkAjwKdZVLd4",
        "outputId": "af6b1eee-8432-4745-86d8-dcc12fa2055a"
      },
      "source": [
        "plt.scatter(setosas[:,0], setosas[:,1], color=\"r\", label=\"setosa\")\n",
        "plt.scatter(versicolors[:,0], versicolors[:,1], color=\"b\", label=\"versicolor\")\n",
        "plt.xlabel('sepal length')\n",
        "plt.ylabel('petal length')\n",
        "plt.legend()"
      ],
      "execution_count": null,
      "outputs": [
        {
          "output_type": "execute_result",
          "data": {
            "text/plain": [
              "<matplotlib.legend.Legend at 0x7f4042f73cd0>"
            ]
          },
          "metadata": {},
          "execution_count": 16
        },
        {
          "output_type": "display_data",
          "data": {
            "image/png": "[encoded data removed]",
            "text/plain": [
              "<Figure size 432x288 with 1 Axes>"
            ]
          },
          "metadata": {
            "needs_background": "light"
          }
        }
      ]
    },
    {
      "cell_type": "code",
      "metadata": {
        "id": "Z5a0aYbVV2Np"
      },
      "source": [
        "Xtrain,Xtest,ytrain,ytest = train_test_split(X,y,test_size=0.25, shuffle=True)"
      ],
      "execution_count": null,
      "outputs": []
    },
    {
      "cell_type": "code",
      "metadata": {
        "colab": {
          "base_uri": "https://localhost:8080/"
        },
        "id": "1gE3iOdMX53Z",
        "outputId": "fd105df4-b336-462b-9a14-e8ec41fc2a16"
      },
      "source": [
        "print(Xtrain.shape, ytrain.shape)\n",
        "print(Xtest.shape, ytest.shape)"
      ],
      "execution_count": null,
      "outputs": [
        {
          "output_type": "stream",
          "name": "stdout",
          "text": [
            "(75, 2) (75,)\n",
            "(25, 2) (25,)\n"
          ]
        }
      ]
    },
    {
      "cell_type": "code",
      "metadata": {
        "id": "asYvteGlX-89"
      },
      "source": [
        "import sys\n",
        "\n",
        "class Perceptron:\n",
        "  def __init__(self, input_dim):\n",
        "    self.weights = np.random.normal(loc=0.0, scale=1.0, size=input_dim)\n",
        "    self.bias = np.random.normal(loc=0.0, scale=1.0, size=1)\n",
        "\n",
        "  def activation(self, yhat):\n",
        "    return np.where(yhat >= 0, 1,0)\n",
        "\n",
        "  def predict(self, data):\n",
        "    return self.activation(np.dot(data, self.weights.T))\n",
        "\n",
        "  def accuracy(self, features, targets):\n",
        "    predictions = self.predict(features)\n",
        "    return (predictions == targets).mean()\n",
        "\n",
        "  def train(self, xtrain, ytrain, xtest, ytest, epochs=100, lr=0.01):\n",
        "    losses = []\n",
        "    train_accuracies = []\n",
        "    test_accuracies = []\n",
        "    for e in range(1, epochs + 1):\n",
        "      epoch_loss = 0.0\n",
        "      predictions = []\n",
        "      for data, target in zip(xtrain, ytrain):\n",
        "        pred = self.predict(data)\n",
        "        error = target - pred\n",
        "        update = lr * error\n",
        "        epoch_loss += error ** 2\n",
        "        self.weights += update * data\n",
        "        self.bias += update\n",
        "\n",
        "      train_acc = self.accuracy(xtrain, ytrain)\n",
        "      test_acc = self.accuracy(xtest, ytest)\n",
        "      train_accuracies.append(train_acc)\n",
        "      test_accuracies.append(test_acc)\n",
        "      losses.append(epoch_loss)\n",
        "\n",
        "      print(f\"\\rEpoch {e}/{epochs}, Loss : {epoch_loss}, Train Acc : {train_acc}, Test Acc : {test_acc}\", end=\"\")\n",
        "      sys.stdout.flush()\n",
        "\n",
        "    return {\"losses\": losses, \"train_acc\": train_accuracies, \"test_acc\": test_accuracies}"
      ],
      "execution_count": null,
      "outputs": []
    },
    {
      "cell_type": "code",
      "metadata": {
        "colab": {
          "base_uri": "https://localhost:8080/"
        },
        "id": "CFs8AQi8Ya7D",
        "outputId": "2e3a933e-ca2b-479c-d39c-48b7abdd893c"
      },
      "source": [
        "model = Perceptron(input_dim=2)\n",
        "history = model.train(Xtrain, ytrain, Xtest, ytest, epochs=20, lr=0.001)"
      ],
      "execution_count": null,
      "outputs": [
        {
          "output_type": "stream",
          "name": "stdout",
          "text": [
            "Epoch 20/20, Loss : 0.0, Train Acc : 1.0, Test Acc : 1.0"
          ]
        }
      ]
    },
    {
      "cell_type": "code",
      "metadata": {
        "colab": {
          "base_uri": "https://localhost:8080/"
        },
        "id": "BacA18vVYf4D",
        "outputId": "cf78925b-c5f1-4221-bbfa-18d7bb22dc02"
      },
      "source": [
        "print(model.weights, model.bias)"
      ],
      "execution_count": null,
      "outputs": [
        {
          "output_type": "stream",
          "name": "stdout",
          "text": [
            "[-0.08223768  0.14471034] [0.23337123]\n"
          ]
        }
      ]
    },
    {
      "cell_type": "code",
      "metadata": {
        "colab": {
          "base_uri": "https://localhost:8080/",
          "height": 351
        },
        "id": "xgdQqASvgRgp",
        "outputId": "fd219e02-9dcd-4602-daf9-f6394dbed2ff"
      },
      "source": [
        "fig = plt.figure(figsize=[15,5])\n",
        "ax1 = fig.add_subplot(121)\n",
        "ax1.plot(history[\"losses\"][:20], c=\"r\")\n",
        "ax1.set_xlabel(\"Epoch\")\n",
        "ax1.set_ylabel(\"Loss\")\n",
        "\n",
        "ax2 = fig.add_subplot(122)\n",
        "ax2.plot(history[\"train_acc\"], c=\"b\", label=\"train_acc\")\n",
        "ax2.plot(history[\"test_acc\"], c=\"g\", label=\"test_acc\")\n",
        "ax2.legend()\n",
        "ax2.set_xlabel(\"Epoch\")\n",
        "ax2.set_ylabel(\"Accuracy\")"
      ],
      "execution_count": null,
      "outputs": [
        {
          "output_type": "execute_result",
          "data": {
            "text/plain": [
              "Text(0, 0.5, 'Accuracy')"
            ]
          },
          "metadata": {},
          "execution_count": 41
        },
        {
          "output_type": "display_data",
          "data": {
            "image/png": "[encoded data removed]",
            "text/plain": [
              "<Figure size 1080x360 with 2 Axes>"
            ]
          },
          "metadata": {
            "needs_background": "light"
          }
        }
      ]
    },
    {
      "cell_type": "code",
      "metadata": {
        "colab": {
          "base_uri": "https://localhost:8080/",
          "height": 320
        },
        "id": "3JsUq--ShWXP",
        "outputId": "e20ca456-b97b-4b45-cab8-9f0740f37279"
      },
      "source": [
        "from mlxtend.plotting import plot_decision_regions\n",
        "_ = plot_decision_regions(X, y, clf=model)"
      ],
      "execution_count": null,
      "outputs": [
        {
          "output_type": "stream",
          "name": "stderr",
          "text": [
            "/usr/local/lib/python3.7/dist-packages/mlxtend/plotting/decision_regions.py:244: MatplotlibDeprecationWarning: Passing unsupported keyword arguments to axis() will raise a TypeError in 3.3.\n",
            "  ax.axis(xmin=xx.min(), xmax=xx.max(), y_min=yy.min(), y_max=yy.max())\n"
          ]
        },
        {
          "output_type": "display_data",
          "data": {
            "image/png": "[encoded data removed]",
            "text/plain": [
              "<Figure size 432x288 with 1 Axes>"
            ]
          },
          "metadata": {
            "needs_background": "light"
          }
        }
      ]
    },
    {
      "cell_type": "code",
      "metadata": {
        "id": "bHUIHW5riKcm"
      },
      "source": [
        ""
      ],
      "execution_count": null,
      "outputs": []
    }
  ]
}